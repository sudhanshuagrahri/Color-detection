{
 "cells": [
  {
   "cell_type": "code",
   "execution_count": 7,
   "metadata": {},
   "outputs": [],
   "source": [
    "import numpy as np \n",
    "import cv2"
   ]
  },
  {
   "cell_type": "code",
   "execution_count": 18,
   "metadata": {},
   "outputs": [
    {
     "name": "stdout",
     "output_type": "stream",
     "text": [
      "Enter absolute image pathC:\\Users\\hp\\Documents\\Color detection project\\Color detection\\6.png\n"
     ]
    }
   ],
   "source": [
    "image= input(\"Enter absolute image path\")"
   ]
  },
  {
   "cell_type": "code",
   "execution_count": 19,
   "metadata": {},
   "outputs": [],
   "source": [
    "image=cv2.imread(image)\n",
    "image = cv2.resize(image, (900,600))"
   ]
  },
  {
   "cell_type": "code",
   "execution_count": 20,
   "metadata": {},
   "outputs": [],
   "source": [
    "hsvFrame = cv2.cvtColor(image,cv2.COLOR_BGR2HSV)"
   ]
  },
  {
   "cell_type": "code",
   "execution_count": 21,
   "metadata": {},
   "outputs": [],
   "source": [
    "# Set range for red color and  \n",
    "# define mask \n",
    "red_lower = np.array([136, 87, 111], np.uint8) \n",
    "red_upper = np.array([180, 255, 255], np.uint8) \n",
    "red_mask = cv2.inRange(hsvFrame, red_lower, red_upper) \n",
    "  \n",
    "# Set range for green color and  \n",
    "# define mask \n",
    "green_lower = np.array([25, 52, 72], np.uint8) \n",
    "green_upper = np.array([102, 255, 255], np.uint8) \n",
    "green_mask = cv2.inRange(hsvFrame, green_lower, green_upper) \n",
    "  \n",
    "# Set range for blue color and \n",
    "# define mask \n",
    "blue_lower = np.array([94, 80, 2], np.uint8) \n",
    "blue_upper = np.array([120, 255, 255], np.uint8) \n",
    "blue_mask = cv2.inRange(hsvFrame, blue_lower, blue_upper) \n",
    "      \n",
    "# Morphological Transform, Dilation \n",
    "# for each color and bitwise_and operator \n",
    "# between imageFrame and mask determines \n",
    "# to detect only that particular color \n",
    "kernal = np.ones((5, 5), \"uint8\") \n",
    "      \n",
    "# For red color \n",
    "red_mask = cv2.dilate(red_mask, kernal) \n",
    "res_red = cv2.bitwise_and(image, image, mask = red_mask) \n",
    "    \n",
    "# For green color \n",
    "green_mask = cv2.dilate(green_mask, kernal) \n",
    "res_green = cv2.bitwise_and(image, image, mask = green_mask) \n",
    "      \n",
    "# For blue color \n",
    "blue_mask = cv2.dilate(blue_mask, kernal) \n",
    "res_blue = cv2.bitwise_and(image, image, mask = blue_mask) \n",
    "   \n",
    "# Creating contour to track red color \n",
    "contours, hierarchy = cv2.findContours(red_mask, cv2.RETR_TREE,cv2.CHAIN_APPROX_SIMPLE)\n",
    "for pic, contour in enumerate(contours): \n",
    "    area = cv2.contourArea(contour) \n",
    "    if(area > 300): \n",
    "        x, y, w, h = cv2.boundingRect(contour) \n",
    "        image = cv2.rectangle(image, (x, y), (x + w, y + h), (0, 0, 255), 2) \n",
    "        cv2.putText(image, \"Red Colour\", (x, y), cv2.FONT_HERSHEY_SIMPLEX, 1.0, (0, 0, 255))     \n",
    " \n",
    "\n",
    "# Creating contour to track green color \n",
    "contours, hierarchy = cv2.findContours(green_mask, cv2.RETR_TREE, cv2.CHAIN_APPROX_SIMPLE) \n",
    "      \n",
    "for pic, contour in enumerate(contours): \n",
    "    area = cv2.contourArea(contour) \n",
    "    if(area > 300): \n",
    "        x, y, w, h = cv2.boundingRect(contour) \n",
    "        image = cv2.rectangle(image, (x, y), (x + w, y + h), (0, 255, 0), 2) \n",
    "        cv2.putText(image, \"Green Colour\", (x, y), cv2.FONT_HERSHEY_SIMPLEX, 1.0, (0, 255, 0)) \n",
    "  \n",
    "# Creating contour to track blue color\n",
    "contours, hierarchy = cv2.findContours(blue_mask, cv2.RETR_TREE, cv2.CHAIN_APPROX_SIMPLE) \n",
    "for pic, contour in enumerate(contours): \n",
    "    area = cv2.contourArea(contour) \n",
    "    if(area > 300): \n",
    "        x, y, w, h = cv2.boundingRect(contour) \n",
    "        image = cv2.rectangle(image, (x, y), (x + w, y + h), (255, 0, 0), 2) \n",
    "        cv2.putText(image, \"Blue Colour\", (x, y), cv2.FONT_HERSHEY_SIMPLEX, 1.0, (255, 0, 0)) \n"
   ]
  },
  {
   "cell_type": "code",
   "execution_count": 22,
   "metadata": {},
   "outputs": [],
   "source": [
    "# Program Termination\n",
    "\n",
    "cv2.imshow(\"Multiple Color Detection in Real-TIme\", image)\n",
    "cv2.waitKey(0)\n",
    "cv2.destroyAllWindows()"
   ]
  },
  {
   "cell_type": "code",
   "execution_count": null,
   "metadata": {},
   "outputs": [],
   "source": []
  }
 ],
 "metadata": {
  "kernelspec": {
   "display_name": "Python 3.7 (tensorflow)",
   "language": "python",
   "name": "tensorflow"
  },
  "language_info": {
   "codemirror_mode": {
    "name": "ipython",
    "version": 3
   },
   "file_extension": ".py",
   "mimetype": "text/x-python",
   "name": "python",
   "nbconvert_exporter": "python",
   "pygments_lexer": "ipython3",
   "version": "3.7.9"
  }
 },
 "nbformat": 4,
 "nbformat_minor": 4
}
